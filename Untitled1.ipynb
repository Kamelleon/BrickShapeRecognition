{
 "cells": [
  {
   "cell_type": "code",
   "execution_count": 72,
   "id": "76e0a2cb-64f1-4dc5-990f-f9bf12462087",
   "metadata": {},
   "outputs": [],
   "source": [
    "import matplotlib.pyplot as plt\n",
    "import numpy as np\n",
    "import os\n",
    "import PIL\n",
    "import tensorflow as tf\n",
    "\n",
    "from tensorflow import keras\n",
    "from tensorflow.keras import layers\n",
    "from tensorflow.keras.models import Sequential"
   ]
  },
  {
   "cell_type": "code",
   "execution_count": 73,
   "id": "20f3ad9c-b3b3-410e-93cb-1c1bcc1e5ece",
   "metadata": {},
   "outputs": [],
   "source": [
    "batch_size = 1\n",
    "img_height = 128\n",
    "img_width = 128"
   ]
  },
  {
   "cell_type": "code",
   "execution_count": 74,
   "id": "dd47598e-b8cd-4cfb-94ba-5bdeaf35121d",
   "metadata": {},
   "outputs": [
    {
     "name": "stdout",
     "output_type": "stream",
     "text": [
      "Found 9856 files belonging to 8 classes.\n",
      "Using 7885 files for training.\n"
     ]
    }
   ],
   "source": [
    "data_dir = \"ksztalty\"\n",
    "train_ds = tf.keras.utils.image_dataset_from_directory(\n",
    "  data_dir,\n",
    "  validation_split=0.2,\n",
    "  subset=\"training\",\n",
    "  seed=111,\n",
    "  image_size=(img_height, img_width),\n",
    "  batch_size=batch_size)\n",
    "class_names = train_ds.class_names"
   ]
  },
  {
   "cell_type": "code",
   "execution_count": 75,
   "id": "d5a34ab0-c5e5-4828-8805-502b3c241058",
   "metadata": {},
   "outputs": [
    {
     "name": "stdout",
     "output_type": "stream",
     "text": [
      "['.ipynb_checkpoints', 'bruk_prosty', 'master', 'metro', 'metro_xl', 'podwojne_t', 'trend', 'wena']\n"
     ]
    }
   ],
   "source": [
    "print(class_names)"
   ]
  },
  {
   "cell_type": "code",
   "execution_count": 76,
   "id": "57dc5169-9481-4155-86a3-3087e71095e0",
   "metadata": {},
   "outputs": [
    {
     "name": "stdout",
     "output_type": "stream",
     "text": [
      "Found 9856 files belonging to 8 classes.\n",
      "Using 1971 files for validation.\n"
     ]
    }
   ],
   "source": [
    "val_ds = tf.keras.utils.image_dataset_from_directory(\n",
    "  data_dir,\n",
    "  validation_split=0.2,\n",
    "  subset=\"validation\",\n",
    "  seed=111,\n",
    "  image_size=(img_height, img_width),\n",
    "  batch_size=batch_size)"
   ]
  },
  {
   "cell_type": "code",
   "execution_count": 77,
   "id": "1c47b58a-bb05-4d83-b1c0-0eadd668dbef",
   "metadata": {},
   "outputs": [
    {
     "name": "stdout",
     "output_type": "stream",
     "text": [
      "Found 9856 files belonging to 8 classes.\n",
      "Using 1971 files for validation.\n"
     ]
    }
   ],
   "source": [
    "test_ds = tf.keras.utils.image_dataset_from_directory(\n",
    "  data_dir,\n",
    "  validation_split=0.2,\n",
    "  subset=\"validation\",\n",
    "  seed=123,\n",
    "  image_size=(img_height, img_width),\n",
    "  batch_size=batch_size)"
   ]
  },
  {
   "cell_type": "code",
   "execution_count": 78,
   "id": "39621161-d309-4822-9053-c2d1a658e78e",
   "metadata": {},
   "outputs": [],
   "source": [
    "AUTOTUNE = tf.data.AUTOTUNE\n",
    "\n",
    "train_ds = train_ds.cache().shuffle(1000).prefetch(buffer_size=AUTOTUNE)\n",
    "val_ds = val_ds.cache().prefetch(buffer_size=AUTOTUNE)"
   ]
  },
  {
   "cell_type": "code",
   "execution_count": 79,
   "id": "9129a8bf-5fb3-4143-a069-81261e46a3c6",
   "metadata": {},
   "outputs": [],
   "source": [
    "num_classes = len(class_names)"
   ]
  },
  {
   "cell_type": "code",
   "execution_count": 80,
   "id": "7fbca829-955f-4616-a4ed-b0f45eddb16d",
   "metadata": {},
   "outputs": [],
   "source": [
    "model = Sequential([\n",
    "  layers.Rescaling(1./255),\n",
    "  layers.Conv2D(32, 2, activation='relu'),\n",
    "  layers.MaxPooling2D(),\n",
    "  layers.Conv2D(64, 4, activation='relu'),\n",
    "  layers.MaxPooling2D(),\n",
    "  layers.Conv2D(128, 4, activation='relu'),\n",
    "  layers.MaxPooling2D(),\n",
    "  layers.Flatten(),\n",
    "  layers.Dense(256, activation='relu'),\n",
    "  layers.Dense(num_classes)\n",
    "])"
   ]
  },
  {
   "cell_type": "code",
   "execution_count": 81,
   "id": "9cb55fa8-2c0c-44fd-b038-2c3000a18be9",
   "metadata": {},
   "outputs": [],
   "source": [
    "model.compile(optimizer='adam',\n",
    "              loss=tf.keras.losses.SparseCategoricalCrossentropy(from_logits=True),\n",
    "              metrics=['accuracy'])"
   ]
  },
  {
   "cell_type": "code",
   "execution_count": 82,
   "id": "93090987-34fa-4937-b0ce-7425f191c214",
   "metadata": {},
   "outputs": [
    {
     "name": "stdout",
     "output_type": "stream",
     "text": [
      "7885/7885 [==============================] - 102s 13ms/step - loss: 0.1403 - accuracy: 0.9551 - val_loss: 0.0306 - val_accuracy: 0.9980\n"
     ]
    }
   ],
   "source": [
    "epochs = 1\n",
    "history = model.fit(\n",
    "  train_ds,\n",
    "  validation_data=val_ds,\n",
    "  epochs=epochs\n",
    ")"
   ]
  },
  {
   "cell_type": "code",
   "execution_count": 83,
   "id": "fc5ecdae-fcbb-471f-9224-0f3179033cf9",
   "metadata": {},
   "outputs": [
    {
     "name": "stdout",
     "output_type": "stream",
     "text": [
      "metro_xl (2).jpg\n",
      "1/1 [==============================] - 0s 77ms/step\n",
      "This image most likely belongs to metro_xl with a 100.00 percent confidence.\n",
      "\n",
      "podwojne_t_3.jpg\n",
      "1/1 [==============================] - 0s 19ms/step\n",
      "This image most likely belongs to podwojne_t with a 100.00 percent confidence.\n",
      "\n",
      "trend (3).jpg\n",
      "1/1 [==============================] - 0s 19ms/step\n",
      "This image most likely belongs to trend with a 100.00 percent confidence.\n",
      "\n",
      "metro (3).jpg\n",
      "1/1 [==============================] - 0s 19ms/step\n",
      "This image most likely belongs to metro with a 100.00 percent confidence.\n",
      "\n",
      "wena (2).jpg\n",
      "1/1 [==============================] - 0s 24ms/step\n",
      "This image most likely belongs to wena with a 100.00 percent confidence.\n",
      "\n",
      "podwojne_t_1.jpg\n",
      "1/1 [==============================] - 0s 18ms/step\n",
      "This image most likely belongs to podwojne_t with a 100.00 percent confidence.\n",
      "\n",
      "trend (2).jpg\n",
      "1/1 [==============================] - 0s 19ms/step\n",
      "This image most likely belongs to trend with a 100.00 percent confidence.\n",
      "\n",
      "prosty.jpg\n",
      "1/1 [==============================] - 0s 19ms/step\n",
      "This image most likely belongs to bruk_prosty with a 100.00 percent confidence.\n",
      "\n",
      "metro_xl.jpg\n",
      "1/1 [==============================] - 0s 18ms/step\n",
      "This image most likely belongs to metro_xl with a 100.00 percent confidence.\n",
      "\n",
      "prosty (2).jpg\n",
      "1/1 [==============================] - 0s 18ms/step\n",
      "This image most likely belongs to bruk_prosty with a 100.00 percent confidence.\n",
      "\n",
      "wena.jpg\n",
      "1/1 [==============================] - 0s 20ms/step\n",
      "This image most likely belongs to wena with a 100.00 percent confidence.\n",
      "\n",
      "trend (4).jpg\n",
      "1/1 [==============================] - 0s 18ms/step\n",
      "This image most likely belongs to trend with a 100.00 percent confidence.\n",
      "\n",
      "trend (5).jpg\n",
      "1/1 [==============================] - 0s 18ms/step\n",
      "This image most likely belongs to trend with a 100.00 percent confidence.\n",
      "\n",
      "prosty (4).jpg\n",
      "1/1 [==============================] - 0s 18ms/step\n",
      "This image most likely belongs to bruk_prosty with a 100.00 percent confidence.\n",
      "\n",
      "podwojne_t_2.jpg\n",
      "1/1 [==============================] - 0s 19ms/step\n",
      "This image most likely belongs to podwojne_t with a 100.00 percent confidence.\n",
      "\n",
      "bruk_prosty.jpg\n",
      "1/1 [==============================] - 0s 20ms/step\n",
      "This image most likely belongs to bruk_prosty with a 100.00 percent confidence.\n",
      "\n",
      "master (2).jpg\n",
      "1/1 [==============================] - 0s 21ms/step\n",
      "This image most likely belongs to master with a 100.00 percent confidence.\n",
      "\n",
      "metro.jpg\n",
      "1/1 [==============================] - 0s 19ms/step\n",
      "This image most likely belongs to metro with a 100.00 percent confidence.\n",
      "\n",
      "metro_xl (3).jpg\n",
      "1/1 [==============================] - 0s 18ms/step\n",
      "This image most likely belongs to metro_xl with a 100.00 percent confidence.\n",
      "\n",
      "bruk_prosty (2).jpg\n",
      "1/1 [==============================] - 0s 18ms/step\n",
      "This image most likely belongs to bruk_prosty with a 100.00 percent confidence.\n",
      "\n",
      "bruk_prosty (4).jpg\n",
      "1/1 [==============================] - 0s 19ms/step\n",
      "This image most likely belongs to bruk_prosty with a 100.00 percent confidence.\n",
      "\n",
      "bruk_prosty_1.jpg\n",
      "1/1 [==============================] - 0s 19ms/step\n",
      "This image most likely belongs to bruk_prosty with a 100.00 percent confidence.\n",
      "\n",
      "trend.jpg\n",
      "1/1 [==============================] - 0s 18ms/step\n",
      "This image most likely belongs to trend with a 100.00 percent confidence.\n",
      "\n",
      "bruk_prosty (3).jpg\n",
      "1/1 [==============================] - 0s 19ms/step\n",
      "This image most likely belongs to bruk_prosty with a 99.98 percent confidence.\n",
      "\n",
      "master (3).jpg\n",
      "1/1 [==============================] - 0s 18ms/step\n",
      "This image most likely belongs to master with a 100.00 percent confidence.\n",
      "\n",
      "master.jpg\n",
      "1/1 [==============================] - 0s 19ms/step\n",
      "This image most likely belongs to master with a 100.00 percent confidence.\n",
      "\n",
      "prosty (3).jpg\n",
      "1/1 [==============================] - 0s 19ms/step\n",
      "This image most likely belongs to bruk_prosty with a 100.00 percent confidence.\n",
      "\n",
      "prosty (5).jpg\n",
      "1/1 [==============================] - 0s 18ms/step\n",
      "This image most likely belongs to trend with a 100.00 percent confidence.\n",
      "\n",
      "metro (2).jpg\n",
      "1/1 [==============================] - 0s 18ms/step\n",
      "This image most likely belongs to metro with a 100.00 percent confidence.\n",
      "\n"
     ]
    }
   ],
   "source": [
    "for i in os.listdir(\"testy_ksztaltow\"):\n",
    "    if i.endswith(\"jpg\") or i.endswith(\".png\"):\n",
    "        sunflower_path = f\"testy_ksztaltow/{i}\"\n",
    "        print(i)\n",
    "        img = tf.keras.utils.load_img(\n",
    "            sunflower_path, target_size=(img_height, img_width)\n",
    "        )\n",
    "        img_array = tf.keras.utils.img_to_array(img)\n",
    "        img_array = tf.expand_dims(img_array, 0)\n",
    "\n",
    "        predictions = model.predict(img_array)\n",
    "        score = tf.nn.softmax(predictions[0])\n",
    "\n",
    "        print(\n",
    "            \"This image most likely belongs to {} with a {:.2f} percent confidence.\\n\"\n",
    "            .format(class_names[np.argmax(score)], 100 * np.max(score))\n",
    "        )"
   ]
  },
  {
   "cell_type": "code",
   "execution_count": 71,
   "id": "f9d72b73-d7d6-4b6f-84b5-4e774d9afaba",
   "metadata": {},
   "outputs": [
    {
     "name": "stderr",
     "output_type": "stream",
     "text": [
      "WARNING:absl:Found untraced functions such as _jit_compiled_convolution_op, _jit_compiled_convolution_op, _jit_compiled_convolution_op while saving (showing 3 of 3). These functions will not be directly callable after loading.\n"
     ]
    },
    {
     "name": "stdout",
     "output_type": "stream",
     "text": [
      "INFO:tensorflow:Assets written to: bruk_rozpoznawanie_ksztaltow/assets\n"
     ]
    },
    {
     "name": "stderr",
     "output_type": "stream",
     "text": [
      "INFO:tensorflow:Assets written to: bruk_rozpoznawanie_ksztaltow/assets\n"
     ]
    }
   ],
   "source": [
    "model.save('bruk_rozpoznawanie_ksztaltow')"
   ]
  },
  {
   "cell_type": "code",
   "execution_count": null,
   "id": "58429bf6-d37b-4cf8-bdbf-b52f543d658c",
   "metadata": {},
   "outputs": [],
   "source": []
  }
 ],
 "metadata": {
  "kernelspec": {
   "display_name": "Python 3 (ipykernel)",
   "language": "python",
   "name": "python3"
  },
  "language_info": {
   "codemirror_mode": {
    "name": "ipython",
    "version": 3
   },
   "file_extension": ".py",
   "mimetype": "text/x-python",
   "name": "python",
   "nbconvert_exporter": "python",
   "pygments_lexer": "ipython3",
   "version": "3.8.10"
  }
 },
 "nbformat": 4,
 "nbformat_minor": 5
}
